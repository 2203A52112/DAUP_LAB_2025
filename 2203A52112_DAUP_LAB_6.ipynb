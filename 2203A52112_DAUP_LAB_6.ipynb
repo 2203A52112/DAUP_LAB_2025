{
  "nbformat": 4,
  "nbformat_minor": 0,
  "metadata": {
    "colab": {
      "provenance": [],
      "authorship_tag": "ABX9TyNaIDSIkBBJNRmvlU6N387n",
      "include_colab_link": true
    },
    "kernelspec": {
      "name": "python3",
      "display_name": "Python 3"
    },
    "language_info": {
      "name": "python"
    }
  },
  "cells": [
    {
      "cell_type": "markdown",
      "metadata": {
        "id": "view-in-github",
        "colab_type": "text"
      },
      "source": [
        "<a href=\"https://colab.research.google.com/github/2203A52112/DAUP_LAB_2025/blob/main/2203A52112_DAUP_LAB_6.ipynb\" target=\"_parent\"><img src=\"https://colab.research.google.com/assets/colab-badge.svg\" alt=\"Open In Colab\"/></a>"
      ]
    },
    {
      "cell_type": "code",
      "execution_count": 2,
      "metadata": {
        "colab": {
          "base_uri": "https://localhost:8080/"
        },
        "id": "1YrdFZzbSYV9",
        "outputId": "d135fab9-9a5b-4bc6-f46b-51195209f96d"
      },
      "outputs": [
        {
          "output_type": "stream",
          "name": "stdout",
          "text": [
            "P(A): 0.5010\n",
            "P(B): 0.3110\n",
            "P(A ∪ B): 0.6400\n",
            "P(A ∩ B): 0.1720\n",
            "P(A | B): 0.5531\n",
            "P(Health and Beauty): 0.1520\n",
            "P(Qty > 5 | Ewallet): 0.4870\n",
            "P(Cash | Yangon): 0.3235\n",
            "P(Member & Rating > 8): 0.1570\n",
            "Permutations(20,5): 1860480\n",
            "Combinations(6,3): 20\n",
            "Factorial(3): 6\n",
            "Permutations(3,4): 0\n",
            "Combinations(15,5): 3003\n",
            "Permutations(26,6): 165765600\n"
          ]
        }
      ],
      "source": [
        "import pandas as pd\n",
        "from math import factorial\n",
        "\n",
        "\n",
        "df = pd.read_csv(\"/content/supermarket_sales -.csv\")\n",
        "\n",
        "def probability(event_count, total_count):\n",
        "    return event_count / total_count\n",
        "\n",
        "# Task 1: Probability Calculations\n",
        "total_transactions = len(df)\n",
        "\n",
        "A_count = len(df[df['Customer type'] == 'Member'])  # Event A: Member customer\n",
        "B_count = len(df[df['Payment'] == 'Credit card'])  # Event B: Credit Card payment\n",
        "A_and_B_count = len(df[(df['Customer type'] == 'Member') & (df['Payment'] == 'Credit card')])\n",
        "\n",
        "P_A = probability(A_count, total_transactions)\n",
        "P_B = probability(B_count, total_transactions)\n",
        "P_A_intersect_B = probability(A_and_B_count, total_transactions)\n",
        "P_A_union_B = P_A + P_B - P_A_intersect_B\n",
        "P_A_given_B = P_A_intersect_B / P_B\n",
        "\n",
        "print(f\"P(A): {P_A:.4f}\")\n",
        "print(f\"P(B): {P_B:.4f}\")\n",
        "print(f\"P(A ∪ B): {P_A_union_B:.4f}\")\n",
        "print(f\"P(A ∩ B): {P_A_intersect_B:.4f}\")\n",
        "print(f\"P(A | B): {P_A_given_B:.4f}\")\n",
        "\n",
        "# Probability of Health & Beauty product line\n",
        "health_beauty_count = len(df[df['Product line'] == 'Health and beauty'])\n",
        "P_health_beauty = probability(health_beauty_count, total_transactions)\n",
        "print(f\"P(Health and Beauty): {P_health_beauty:.4f}\")\n",
        "\n",
        "# Given Ewallet, probability of buying more than 5 items\n",
        "ewallet_df = df[df['Payment'] == 'Ewallet']\n",
        "P_more_than_5_given_ewallet = probability(len(ewallet_df[ewallet_df['Quantity'] > 5]), len(ewallet_df))\n",
        "print(f\"P(Qty > 5 | Ewallet): {P_more_than_5_given_ewallet:.4f}\")\n",
        "\n",
        "# Probability of using Cash in Yangon\n",
        "yangon_df = df[df['City'] == 'Yangon']\n",
        "P_cash_yangon = probability(len(yangon_df[yangon_df['Payment'] == 'Cash']), len(yangon_df))\n",
        "print(f\"P(Cash | Yangon): {P_cash_yangon:.4f}\")\n",
        "\n",
        "# Probability of Member giving rating > 8\n",
        "member_high_rating = len(df[(df['Customer type'] == 'Member') & (df['Rating'] > 8)])\n",
        "P_member_high_rating = probability(member_high_rating, total_transactions)\n",
        "print(f\"P(Member & Rating > 8): {P_member_high_rating:.4f}\")\n",
        "\n",
        "# Task 2: Factorial, Permutations, Combinations\n",
        "def perm(n, r):\n",
        "    return factorial(n) // factorial(n - r)\n",
        "\n",
        "def comb(n, r):\n",
        "    return factorial(n) // (factorial(r) * factorial(n - r))\n",
        "\n",
        "# Permutations: Arranging 5 transactions from 20\n",
        "print(f\"Permutations(20,5): {perm(20, 5)}\")\n",
        "\n",
        "# Combinations: Selecting 3 product lines from 6\n",
        "print(f\"Combinations(6,3): {comb(6, 3)}\")\n",
        "\n",
        "# Factorial of number of branches (3 in dataset)\n",
        "print(f\"Factorial(3): {factorial(3)}\")\n",
        "\n",
        "# Displaying 4 different payment methods from 3 (impossible, so answer is 0)\n",
        "print(f\"Permutations(3,4): {perm(3, 4) if 3 >= 4 else 0}\")\n",
        "\n",
        "# Selecting 5 employees from 15\n",
        "print(f\"Combinations(15,5): {comb(15, 5)}\")\n",
        "\n",
        "# Unique invoice codes using 6 letters\n",
        "print(f\"Permutations(26,6): {perm(26, 6)}\")\n"
      ]
    }
  ]
}